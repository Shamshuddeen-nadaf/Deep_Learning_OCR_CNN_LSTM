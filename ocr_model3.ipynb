{
  "nbformat": 4,
  "nbformat_minor": 0,
  "metadata": {
    "colab": {
      "provenance": [],
      "gpuType": "T4"
    },
    "kernelspec": {
      "name": "python3",
      "display_name": "Python 3"
    },
    "language_info": {
      "name": "python"
    },
    "accelerator": "GPU"
  },
  "cells": [
    {
      "cell_type": "code",
      "execution_count": 22,
      "metadata": {
        "id": "GNxmNqgW84Tx"
      },
      "outputs": [],
      "source": [
        "from tensorflow.keras import layers, models, optimizers\n",
        "\n",
        "hybrid_model = models.Sequential()\n",
        "\n",
        "hybrid_model.add(layers.Input(shape=(28, 28, 1)))\n",
        "hybrid_model.add(layers.Conv2D(32, (4, 4), padding='same'))\n",
        "hybrid_model.add(layers.LeakyReLU(negative_slope=0.1))\n",
        "\n",
        "hybrid_model.add(layers.Conv2D(64, (4, 4)))\n",
        "hybrid_model.add(layers.LeakyReLU(negative_slope=0.1))\n",
        "hybrid_model.add(layers.MaxPooling2D(pool_size=(2, 2)))\n",
        "#hybrid_model.add(layers.Dropout(0.25))\n",
        "\n",
        "hybrid_model.add(layers.Conv2D(32, (4, 4), padding='same'))\n",
        "hybrid_model.add(layers.LeakyReLU(negative_slope=0.1))\n",
        "hybrid_model.add(layers.MaxPooling2D(pool_size=(2, 2)))\n",
        "#hybrid_model.add(layers.Dropout(0.25))\n",
        "\n",
        "hybrid_model.add(layers.Reshape(target_shape=(-1, 64)))\n",
        "\n",
        "hybrid_model.add(layers.LSTM(128, return_sequences=True))\n",
        "#hybrid_model.add(layers.Dropout(0.25))\n",
        "\n",
        "hybrid_model.add(layers.LSTM(64, return_sequences=False))\n",
        "#hybrid_model.add(layers.Dropout(0.25))\n",
        "\n",
        "hybrid_model.add(layers.Dense(256))\n",
        "hybrid_model.add(layers.LeakyReLU(negative_slope=0.1))\n",
        "hybrid_model.add(layers.Dropout(0.5))\n",
        "\n",
        "hybrid_model.add(layers.Dense(47, activation='softmax'))\n",
        "\n",
        "hybrid_model.compile(\n",
        "    loss='categorical_crossentropy',\n",
        "    optimizer=optimizers.Adam(learning_rate=0.001),\n",
        "    metrics=['accuracy']\n",
        ")\n"
      ]
    },
    {
      "cell_type": "code",
      "source": [
        "import tensorflow_datasets as tfds\n",
        "import tensorflow as tf\n",
        "import numpy as np\n",
        "(ds_train, ds_test), ds_info = tfds.load(\n",
        "    'emnist/balanced',\n",
        "    split=['train', 'test'],\n",
        "    shuffle_files=True,\n",
        "    as_supervised=True,\n",
        "    with_info=True,\n",
        ")\n",
        "def preprocess(image, label):\n",
        "    image = tf.transpose(image)\n",
        "    image = tf.cast(image, tf.float32) / 255.0\n",
        "    image = tf.reshape(image, (28, 28, 1))\n",
        "    label = tf.one_hot(label, depth=47)\n",
        "    return image, label\n",
        "ds_train = ds_train.map(preprocess).batch(128).prefetch(tf.data.AUTOTUNE)\n",
        "ds_test = ds_test.map(preprocess).batch(128).prefetch(tf.data.AUTOTUNE)\n",
        "for images, labels in ds_train.take(1):\n",
        "    print(f\"Batch images shape: {images.shape}\")\n",
        "    print(f\"Batch labels shape: {labels.shape}\")\n",
        "#print the images\n",
        "\n",
        "import matplotlib.pyplot as plt\n",
        "\n",
        "for image,label in ds_train.take(1):\n",
        "    for i in range(10):\n",
        "        plt.subplot(2,5,i+1)\n",
        "        plt.imshow(image[i].numpy().squeeze(),cmap='gray')\n",
        "        plt.title(np.argmax(label[i],axis=0))\n",
        "        plt.tight_layout()\n",
        "        plt.show()\n"
      ],
      "metadata": {
        "colab": {
          "base_uri": "https://localhost:8080/",
          "height": 1000
        },
        "id": "AGi_SkFj9KFF",
        "outputId": "62ce87c4-5a23-4cb4-d2ba-f2d60f54bbcc"
      },
      "execution_count": 23,
      "outputs": [
        {
          "output_type": "stream",
          "name": "stdout",
          "text": [
            "Batch images shape: (128, 28, 28, 1)\n",
            "Batch labels shape: (128, 47)\n"
          ]
        },
        {
          "output_type": "display_data",
          "data": {
            "text/plain": [
              "<Figure size 640x480 with 1 Axes>"
            ],
            "image/png": "[encoded data removed]"
          },
          "metadata": {}
        },
        {
          "output_type": "display_data",
          "data": {
            "text/plain": [
              "<Figure size 640x480 with 1 Axes>"
            ],
            "image/png": "[encoded data removed]"
          },
          "metadata": {}
        },
        {
          "output_type": "display_data",
          "data": {
            "text/plain": [
              "<Figure size 640x480 with 1 Axes>"
            ],
            "image/png": "[encoded data removed]"
          },
          "metadata": {}
        },
        {
          "output_type": "display_data",
          "data": {
            "text/plain": [
              "<Figure size 640x480 with 1 Axes>"
            ],
            "image/png": "[encoded data removed]"
          },
          "metadata": {}
        },
        {
          "output_type": "display_data",
          "data": {
            "text/plain": [
              "<Figure size 640x480 with 1 Axes>"
            ],
            "image/png": "[encoded data removed]"
          },
          "metadata": {}
        },
        {
          "output_type": "display_data",
          "data": {
            "text/plain": [
              "<Figure size 640x480 with 1 Axes>"
            ],
            "image/png": "[encoded data removed]"
          },
          "metadata": {}
        },
        {
          "output_type": "display_data",
          "data": {
            "text/plain": [
              "<Figure size 640x480 with 1 Axes>"
            ],
            "image/png": "[encoded data removed]"
          },
          "metadata": {}
        },
        {
          "output_type": "display_data",
          "data": {
            "text/plain": [
              "<Figure size 640x480 with 1 Axes>"
            ],
            "image/png": "[encoded data removed]"
          },
          "metadata": {}
        },
        {
          "output_type": "display_data",
          "data": {
            "text/plain": [
              "<Figure size 640x480 with 1 Axes>"
            ],
            "image/png": "[encoded data removed]"
          },
          "metadata": {}
        },
        {
          "output_type": "display_data",
          "data": {
            "text/plain": [
              "<Figure size 640x480 with 1 Axes>"
            ],
            "image/png": "[encoded data removed]"
          },
          "metadata": {}
        }
      ]
    },
    {
      "cell_type": "code",
      "source": [
        "hybrid_model.fit(ds_train,epochs=15,batch_size=64,validation_data=ds_test)"
      ],
      "metadata": {
        "colab": {
          "base_uri": "https://localhost:8080/"
        },
        "id": "tJiJxnDA-IEN",
        "outputId": "291a65ff-b740-4f89-e498-fc66e8f5dc43"
      },
      "execution_count": 24,
      "outputs": [
        {
          "output_type": "stream",
          "name": "stdout",
          "text": [
            "Epoch 1/15\n",
            "\u001b[1m882/882\u001b[0m \u001b[32m━━━━━━━━━━━━━━━━━━━━\u001b[0m\u001b[37m\u001b[0m \u001b[1m22s\u001b[0m 21ms/step - accuracy: 0.3631 - loss: 2.2296 - val_accuracy: 0.8240 - val_loss: 0.5176\n",
            "Epoch 2/15\n",
            "\u001b[1m882/882\u001b[0m \u001b[32m━━━━━━━━━━━━━━━━━━━━\u001b[0m\u001b[37m\u001b[0m \u001b[1m15s\u001b[0m 17ms/step - accuracy: 0.8306 - loss: 0.5055 - val_accuracy: 0.8521 - val_loss: 0.4342\n",
            "Epoch 3/15\n",
            "\u001b[1m882/882\u001b[0m \u001b[32m━━━━━━━━━━━━━━━━━━━━\u001b[0m\u001b[37m\u001b[0m \u001b[1m16s\u001b[0m 18ms/step - accuracy: 0.8618 - loss: 0.3983 - val_accuracy: 0.8661 - val_loss: 0.3858\n",
            "Epoch 4/15\n",
            "\u001b[1m882/882\u001b[0m \u001b[32m━━━━━━━━━━━━━━━━━━━━\u001b[0m\u001b[37m\u001b[0m \u001b[1m20s\u001b[0m 17ms/step - accuracy: 0.8764 - loss: 0.3520 - val_accuracy: 0.8706 - val_loss: 0.3629\n",
            "Epoch 5/15\n",
            "\u001b[1m882/882\u001b[0m \u001b[32m━━━━━━━━━━━━━━━━━━━━\u001b[0m\u001b[37m\u001b[0m \u001b[1m20s\u001b[0m 17ms/step - accuracy: 0.8821 - loss: 0.3273 - val_accuracy: 0.8752 - val_loss: 0.3554\n",
            "Epoch 6/15\n",
            "\u001b[1m882/882\u001b[0m \u001b[32m━━━━━━━━━━━━━━━━━━━━\u001b[0m\u001b[37m\u001b[0m \u001b[1m21s\u001b[0m 18ms/step - accuracy: 0.8885 - loss: 0.3055 - val_accuracy: 0.8780 - val_loss: 0.3511\n",
            "Epoch 7/15\n",
            "\u001b[1m882/882\u001b[0m \u001b[32m━━━━━━━━━━━━━━━━━━━━\u001b[0m\u001b[37m\u001b[0m \u001b[1m15s\u001b[0m 17ms/step - accuracy: 0.8928 - loss: 0.2897 - val_accuracy: 0.8780 - val_loss: 0.3537\n",
            "Epoch 8/15\n",
            "\u001b[1m882/882\u001b[0m \u001b[32m━━━━━━━━━━━━━━━━━━━━\u001b[0m\u001b[37m\u001b[0m \u001b[1m16s\u001b[0m 18ms/step - accuracy: 0.8964 - loss: 0.2741 - val_accuracy: 0.8779 - val_loss: 0.3513\n",
            "Epoch 9/15\n",
            "\u001b[1m882/882\u001b[0m \u001b[32m━━━━━━━━━━━━━━━━━━━━\u001b[0m\u001b[37m\u001b[0m \u001b[1m16s\u001b[0m 19ms/step - accuracy: 0.9020 - loss: 0.2632 - val_accuracy: 0.8793 - val_loss: 0.3549\n",
            "Epoch 10/15\n",
            "\u001b[1m882/882\u001b[0m \u001b[32m━━━━━━━━━━━━━━━━━━━━\u001b[0m\u001b[37m\u001b[0m \u001b[1m16s\u001b[0m 18ms/step - accuracy: 0.9038 - loss: 0.2515 - val_accuracy: 0.8807 - val_loss: 0.3548\n",
            "Epoch 11/15\n",
            "\u001b[1m882/882\u001b[0m \u001b[32m━━━━━━━━━━━━━━━━━━━━\u001b[0m\u001b[37m\u001b[0m \u001b[1m21s\u001b[0m 19ms/step - accuracy: 0.9070 - loss: 0.2415 - val_accuracy: 0.8799 - val_loss: 0.3724\n",
            "Epoch 12/15\n",
            "\u001b[1m882/882\u001b[0m \u001b[32m━━━━━━━━━━━━━━━━━━━━\u001b[0m\u001b[37m\u001b[0m \u001b[1m20s\u001b[0m 18ms/step - accuracy: 0.9092 - loss: 0.2349 - val_accuracy: 0.8816 - val_loss: 0.3737\n",
            "Epoch 13/15\n",
            "\u001b[1m882/882\u001b[0m \u001b[32m━━━━━━━━━━━━━━━━━━━━\u001b[0m\u001b[37m\u001b[0m \u001b[1m20s\u001b[0m 18ms/step - accuracy: 0.9113 - loss: 0.2269 - val_accuracy: 0.8788 - val_loss: 0.3830\n",
            "Epoch 14/15\n",
            "\u001b[1m882/882\u001b[0m \u001b[32m━━━━━━━━━━━━━━━━━━━━\u001b[0m\u001b[37m\u001b[0m \u001b[1m21s\u001b[0m 18ms/step - accuracy: 0.9143 - loss: 0.2192 - val_accuracy: 0.8837 - val_loss: 0.3745\n",
            "Epoch 15/15\n",
            "\u001b[1m882/882\u001b[0m \u001b[32m━━━━━━━━━━━━━━━━━━━━\u001b[0m\u001b[37m\u001b[0m \u001b[1m21s\u001b[0m 19ms/step - accuracy: 0.9167 - loss: 0.2108 - val_accuracy: 0.8825 - val_loss: 0.3872\n"
          ]
        },
        {
          "output_type": "execute_result",
          "data": {
            "text/plain": [
              "<keras.src.callbacks.history.History at 0x7a7b80f64320>"
            ]
          },
          "metadata": {},
          "execution_count": 24
        }
      ]
    },
    {
      "cell_type": "code",
      "source": [
        "hybrid_model.evaluate(ds_test)"
      ],
      "metadata": {
        "colab": {
          "base_uri": "https://localhost:8080/"
        },
        "id": "lhKRbXmIA3tQ",
        "outputId": "2a5717c3-74b5-465f-fe23-346a69981019"
      },
      "execution_count": 25,
      "outputs": [
        {
          "output_type": "stream",
          "name": "stdout",
          "text": [
            "\u001b[1m147/147\u001b[0m \u001b[32m━━━━━━━━━━━━━━━━━━━━\u001b[0m\u001b[37m\u001b[0m \u001b[1m1s\u001b[0m 8ms/step - accuracy: 0.8846 - loss: 0.3779\n"
          ]
        },
        {
          "output_type": "execute_result",
          "data": {
            "text/plain": [
              "[0.3872174322605133, 0.8824999928474426]"
            ]
          },
          "metadata": {},
          "execution_count": 25
        }
      ]
    }
  ]
}