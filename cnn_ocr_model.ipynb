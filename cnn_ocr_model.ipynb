{
 "cells": [
  {
   "cell_type": "code",
   "execution_count": null,
   "id": "222f2b1a",
   "metadata": {},
   "outputs": [],
   "source": [
    "from tensorflow.keras import models,layers\n",
    "cnnModel = models.Sequential()\n",
    "cnnModel.add(layers.Input(shape=(28,28,1)))\n",
    "cnnModel.add(layers.Conv2D(32,(3,3),padding='same'))\n",
    "cnnModel.add(layers.LeakyReLU(negative_slope=0.1))\n",
    "cnnModel.add(layers.Dropout(0.25))\n",
    "cnnModel.add(layers.Conv2D(64,(3,3)))\n",
    "cnnModel.add(layers.LeakyReLU(negative_slope=0.1))\n",
    "cnnModel.add(layers.MaxPooling2D(pool_size = (2,2)))\n",
    "cnnModel.add(layers.Dropout(0.25))\n",
    "cnnModel.add(layers.Flatten())\n",
    "\n",
    "cnnModel.add(layers.Dense(256))\n",
    "cnnModel.add(layers.LeakyReLU(negative_slope=0.1))\n",
    "cnnModel.add(layers.Dropout(0.5))\n",
    "cnnModel.add(layers.Dense(47,activation='softmax'))\n",
    "\n",
    "cnnModel.compile(loss='categorical_crossentropy',optimizer='adam',metrics=['accuracy'])"
   ]
  },
  {
   "cell_type": "code",
   "execution_count": 18,
   "id": "a82dfb56",
   "metadata": {},
   "outputs": [
    {
     "name": "stdout",
     "output_type": "stream",
     "text": [
      "tfds.core.DatasetInfo(\n",
      "    name='emnist',\n",
      "    full_name='emnist/balanced/3.1.0',\n",
      "    description=\"\"\"\n",
      "    The EMNIST dataset is a set of handwritten character digits derived from the NIST Special Database 19 and converted to a 28x28 pixel image format and dataset structure that directly matches the MNIST dataset.\n",
      "    \n",
      "    Note: Like the original EMNIST data, images provided here are inverted horizontally and rotated 90 anti-clockwise. You can use `tf.transpose` within `ds.map` to convert the images to a human-friendlier format.\n",
      "    \"\"\",\n",
      "    config_description=\"\"\"\n",
      "    EMNIST Balanced\n",
      "    \"\"\",\n",
      "    homepage='https://www.nist.gov/itl/products-and-services/emnist-dataset',\n",
      "    data_dir='C:\\\\Users\\\\Shamshuddeen\\\\tensorflow_datasets\\\\emnist\\\\balanced\\\\3.1.0',\n",
      "    file_format=tfrecord,\n",
      "    download_size=535.73 MiB,\n",
      "    dataset_size=56.63 MiB,\n",
      "    features=FeaturesDict({\n",
      "        'image': Image(shape=(28, 28, 1), dtype=uint8),\n",
      "        'label': ClassLabel(shape=(), dtype=int64, num_classes=47),\n",
      "    }),\n",
      "    supervised_keys=('image', 'label'),\n",
      "    disable_shuffling=False,\n",
      "    nondeterministic_order=False,\n",
      "    splits={\n",
      "        'test': <SplitInfo num_examples=18800, num_shards=1>,\n",
      "        'train': <SplitInfo num_examples=112800, num_shards=1>,\n",
      "    },\n",
      "    citation=\"\"\"@article{cohen_afshar_tapson_schaik_2017,\n",
      "        title={EMNIST: Extending MNIST to handwritten letters},\n",
      "        DOI={10.1109/ijcnn.2017.7966217},\n",
      "        journal={2017 International Joint Conference on Neural Networks (IJCNN)},\n",
      "        author={Cohen, Gregory and Afshar, Saeed and Tapson, Jonathan and Schaik, Andre Van},\n",
      "        year={2017}\n",
      "    }\"\"\",\n",
      ")\n"
     ]
    }
   ],
   "source": [
    "import tensorflow_datasets as tsdf\n",
    "(ds_train,ds_test) ,ds_info = tsdf.load(\n",
    "    'emnist/balanced',\n",
    "    split=['train', 'test'],\n",
    "    shuffle_files=True,\n",
    "    as_supervised=True,\n",
    "    with_info=True,\n",
    "    )\n",
    "print(ds_info)"
   ]
  },
  {
   "cell_type": "code",
   "execution_count": 19,
   "id": "43adbdcf",
   "metadata": {},
   "outputs": [],
   "source": [
    "import tensorflow as tf\n",
    "def preprocess(image, label):\n",
    "    image = tf.transpose(image)\n",
    "    image = tf.cast(image, tf.float32) / 255.0\n",
    "    image = tf.reshape(image, (28, 28, 1))\n",
    "    label = tf.one_hot(label, depth=47)\n",
    "    return image, label\n",
    "ds_train = ds_train.map(preprocess).batch(128).prefetch(tf.data.AUTOTUNE)\n",
    "ds_test = ds_test.map(preprocess).batch(128).prefetch(tf.data.AUTOTUNE)"
   ]
  },
  {
   "cell_type": "code",
   "execution_count": 20,
   "id": "4b140bda",
   "metadata": {},
   "outputs": [
    {
     "name": "stdout",
     "output_type": "stream",
     "text": [
      "Epoch 1/15\n",
      "\u001b[1m882/882\u001b[0m \u001b[32m━━━━━━━━━━━━━━━━━━━━\u001b[0m\u001b[37m\u001b[0m \u001b[1m44s\u001b[0m 49ms/step - accuracy: 0.7816 - loss: 0.7047 - val_accuracy: 0.8472 - val_loss: 0.4714\n",
      "Epoch 2/15\n",
      "\u001b[1m882/882\u001b[0m \u001b[32m━━━━━━━━━━━━━━━━━━━━\u001b[0m\u001b[37m\u001b[0m \u001b[1m44s\u001b[0m 50ms/step - accuracy: 0.8573 - loss: 0.4117 - val_accuracy: 0.8610 - val_loss: 0.4139\n",
      "Epoch 3/15\n",
      "\u001b[1m882/882\u001b[0m \u001b[32m━━━━━━━━━━━━━━━━━━━━\u001b[0m\u001b[37m\u001b[0m \u001b[1m45s\u001b[0m 51ms/step - accuracy: 0.8731 - loss: 0.3520 - val_accuracy: 0.8673 - val_loss: 0.3921\n",
      "Epoch 4/15\n",
      "\u001b[1m882/882\u001b[0m \u001b[32m━━━━━━━━━━━━━━━━━━━━\u001b[0m\u001b[37m\u001b[0m \u001b[1m42s\u001b[0m 48ms/step - accuracy: 0.8836 - loss: 0.3143 - val_accuracy: 0.8713 - val_loss: 0.3911\n",
      "Epoch 5/15\n",
      "\u001b[1m882/882\u001b[0m \u001b[32m━━━━━━━━━━━━━━━━━━━━\u001b[0m\u001b[37m\u001b[0m \u001b[1m48s\u001b[0m 54ms/step - accuracy: 0.8927 - loss: 0.2861 - val_accuracy: 0.8659 - val_loss: 0.3960\n",
      "Epoch 6/15\n",
      "\u001b[1m882/882\u001b[0m \u001b[32m━━━━━━━━━━━━━━━━━━━━\u001b[0m\u001b[37m\u001b[0m \u001b[1m49s\u001b[0m 55ms/step - accuracy: 0.8987 - loss: 0.2637 - val_accuracy: 0.8705 - val_loss: 0.3961\n",
      "Epoch 7/15\n",
      "\u001b[1m882/882\u001b[0m \u001b[32m━━━━━━━━━━━━━━━━━━━━\u001b[0m\u001b[37m\u001b[0m \u001b[1m48s\u001b[0m 54ms/step - accuracy: 0.9048 - loss: 0.2421 - val_accuracy: 0.8705 - val_loss: 0.4105\n",
      "Epoch 8/15\n",
      "\u001b[1m882/882\u001b[0m \u001b[32m━━━━━━━━━━━━━━━━━━━━\u001b[0m\u001b[37m\u001b[0m \u001b[1m49s\u001b[0m 55ms/step - accuracy: 0.9086 - loss: 0.2279 - val_accuracy: 0.8698 - val_loss: 0.4255\n",
      "Epoch 9/15\n",
      "\u001b[1m882/882\u001b[0m \u001b[32m━━━━━━━━━━━━━━━━━━━━\u001b[0m\u001b[37m\u001b[0m \u001b[1m48s\u001b[0m 54ms/step - accuracy: 0.9154 - loss: 0.2106 - val_accuracy: 0.8701 - val_loss: 0.4360\n",
      "Epoch 10/15\n",
      "\u001b[1m882/882\u001b[0m \u001b[32m━━━━━━━━━━━━━━━━━━━━\u001b[0m\u001b[37m\u001b[0m \u001b[1m51s\u001b[0m 58ms/step - accuracy: 0.9174 - loss: 0.2022 - val_accuracy: 0.8693 - val_loss: 0.4330\n",
      "Epoch 11/15\n",
      "\u001b[1m882/882\u001b[0m \u001b[32m━━━━━━━━━━━━━━━━━━━━\u001b[0m\u001b[37m\u001b[0m \u001b[1m54s\u001b[0m 62ms/step - accuracy: 0.9220 - loss: 0.1892 - val_accuracy: 0.8713 - val_loss: 0.4478\n",
      "Epoch 12/15\n",
      "\u001b[1m882/882\u001b[0m \u001b[32m━━━━━━━━━━━━━━━━━━━━\u001b[0m\u001b[37m\u001b[0m \u001b[1m48s\u001b[0m 55ms/step - accuracy: 0.9256 - loss: 0.1805 - val_accuracy: 0.8686 - val_loss: 0.4619\n",
      "Epoch 13/15\n",
      "\u001b[1m882/882\u001b[0m \u001b[32m━━━━━━━━━━━━━━━━━━━━\u001b[0m\u001b[37m\u001b[0m \u001b[1m51s\u001b[0m 58ms/step - accuracy: 0.9293 - loss: 0.1693 - val_accuracy: 0.8703 - val_loss: 0.4769\n",
      "Epoch 14/15\n",
      "\u001b[1m882/882\u001b[0m \u001b[32m━━━━━━━━━━━━━━━━━━━━\u001b[0m\u001b[37m\u001b[0m \u001b[1m52s\u001b[0m 59ms/step - accuracy: 0.9320 - loss: 0.1645 - val_accuracy: 0.8689 - val_loss: 0.4956\n",
      "Epoch 15/15\n",
      "\u001b[1m882/882\u001b[0m \u001b[32m━━━━━━━━━━━━━━━━━━━━\u001b[0m\u001b[37m\u001b[0m \u001b[1m48s\u001b[0m 54ms/step - accuracy: 0.9352 - loss: 0.1571 - val_accuracy: 0.8711 - val_loss: 0.4821\n"
     ]
    },
    {
     "data": {
      "text/plain": [
       "<keras.src.callbacks.history.History at 0x212d6808fb0>"
      ]
     },
     "execution_count": 20,
     "metadata": {},
     "output_type": "execute_result"
    }
   ],
   "source": [
    "cnnModel.fit(ds_train,epochs=15,validation_data=ds_test)"
   ]
  },
  {
   "cell_type": "code",
   "execution_count": null,
   "id": "8c62f90c",
   "metadata": {},
   "outputs": [],
   "source": []
  }
 ],
 "metadata": {
  "kernelspec": {
   "display_name": "base",
   "language": "python",
   "name": "python3"
  },
  "language_info": {
   "codemirror_mode": {
    "name": "ipython",
    "version": 3
   },
   "file_extension": ".py",
   "mimetype": "text/x-python",
   "name": "python",
   "nbconvert_exporter": "python",
   "pygments_lexer": "ipython3",
   "version": "3.12.7"
  }
 },
 "nbformat": 4,
 "nbformat_minor": 5
}
